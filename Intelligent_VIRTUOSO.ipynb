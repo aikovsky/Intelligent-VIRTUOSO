{
  "nbformat": 4,
  "nbformat_minor": 0,
  "metadata": {
    "kernelspec": {
      "display_name": "Python 3",
      "language": "python",
      "name": "python3"
    },
    "language_info": {
      "codemirror_mode": {
        "name": "ipython",
        "version": 3
      },
      "file_extension": ".py",
      "mimetype": "text/x-python",
      "name": "python",
      "nbconvert_exporter": "python",
      "pygments_lexer": "ipython3",
      "version": "3.8.5"
    },
    "colab": {
      "name": "Intelligent-VIRTUOSO.ipynb",
      "private_outputs": true,
      "provenance": [],
      "collapsed_sections": [],
      "machine_shape": "hm",
      "include_colab_link": true
    },
    "accelerator": "GPU"
  },
  "cells": [
    {
      "cell_type": "markdown",
      "metadata": {
        "id": "view-in-github",
        "colab_type": "text"
      },
      "source": [
        "<a href=\"https://colab.research.google.com/github/asigalov61/Intelligent-VIRTUOSO/blob/main/Intelligent_VIRTUOSO.ipynb\" target=\"_parent\"><img src=\"https://colab.research.google.com/assets/colab-badge.svg\" alt=\"Open In Colab\"/></a>"
      ]
    },
    {
      "cell_type": "markdown",
      "metadata": {
        "id": "QA0W-VK1JVQl"
      },
      "source": [
        "# Intelligent VIRTUOSO (ver. 1.0)\n",
        "\n",
        "***\n",
        "\n",
        "## Chordified GPT2-based Symbolic Music Artificial Intelligence Model Creator/Trainer.\n",
        "\n",
        "### Multi-Instrumental, with special TMIDI Processors\n",
        "\n",
        "***\n",
        "\n",
        "Credit for char-based GPT2 implementation used in this colab goes out to Andrej Karpathy: https://github.com/karpathy/minGPT\n",
        "\n",
        "***\n",
        "\n",
        "#### Project Los Angeles\n",
        "\n",
        "#### Tegridy Code 2020\n",
        "\n",
        "***"
      ]
    },
    {
      "cell_type": "markdown",
      "metadata": {
        "id": "eftzIVKrqR5S"
      },
      "source": [
        "# Setup Environment, clone needed repos, and install all required dependencies"
      ]
    },
    {
      "cell_type": "code",
      "metadata": {
        "id": "HsUtsJGNz6f2",
        "cellView": "form"
      },
      "source": [
        "#@title Install all dependencies (run only once per session)\n",
        "!git clone https://github.com/asigalov61/minGPT\n",
        "!git clone https://github.com/asigalov61/tegridy-tools\n",
        "!apt install fluidsynth #Pip does not work for some reason. Only apt works\n",
        "!pip install midi2audio"
      ],
      "execution_count": null,
      "outputs": []
    },
    {
      "cell_type": "code",
      "metadata": {
        "id": "pf8B3p6QySmE",
        "cellView": "form"
      },
      "source": [
        "#@title Import all needed modules\n",
        "import os\n",
        "if not os.path.exists('/content/Dataset'):\n",
        "    os.makedirs('/content/Dataset')\n",
        "\n",
        "os.chdir('/content/minGPT')\n",
        "# make deterministic\n",
        "from mingpt.utils import set_seed\n",
        "set_seed(42)\n",
        "\n",
        "import tqdm.auto\n",
        "import pickle\n",
        "import numpy as np\n",
        "import torchvision\n",
        "import torch\n",
        "import torch.nn as nn\n",
        "from torch import optim\n",
        "import torch.nn.functional as F\n",
        "from torch.utils.data import Dataset\n",
        "\n",
        "import keras\n",
        "from keras.utils import to_categorical\n",
        "\n",
        "import time\n",
        "import math\n",
        "import datetime\n",
        "from datetime import datetime\n",
        "\n",
        "from mingpt.model import GPT, GPTConfig\n",
        "from mingpt.trainer import Trainer, TrainerConfig\n",
        "from mingpt.utils import sample\n",
        "\n",
        "os.chdir('/content/tegridy-tools/tegridy-tools')\n",
        "import TMIDI\n",
        "import MIDI\n",
        "\n",
        "import tqdm.auto\n",
        "\n",
        "import matplotlib\n",
        "import matplotlib.pyplot as plt\n",
        "%matplotlib inline\n",
        "\n",
        "from midi2audio import FluidSynth\n",
        "from IPython.display import display, Javascript, HTML, Audio\n",
        "\n",
        "from google.colab import output, drive\n",
        "\n",
        "dtype = torch.float\n",
        "device = torch.device(\"cuda:0\" if torch.cuda.is_available() else \"cpu\")\n",
        "# Assume that we are on a CUDA machine, then this should print a CUDA device:\n",
        "print('Available Processing Device is:', device)\n",
        "os.chdir('/content/')"
      ],
      "execution_count": null,
      "outputs": []
    },
    {
      "cell_type": "markdown",
      "metadata": {
        "id": "N2Pv5eNRqiyr"
      },
      "source": [
        "# Upload/download and process MIDI dataset"
      ]
    },
    {
      "cell_type": "code",
      "metadata": {
        "id": "EHuggjW7etzZ",
        "cellView": "form"
      },
      "source": [
        "#@title (OPTION 1) Download special Tegridy Piano MIDI dataset\n",
        "#@markdown Works best stand-alone/as-is for the optimal results\n",
        "%cd /content/Dataset/\n",
        "!rm *.mid \n",
        "!rm *.midi\n",
        "!wget 'https://github.com/asigalov61/Tegridy-MIDI-Dataset/raw/master/Tegridy-Piano-CC-BY-NC-SA.zip'\n",
        "!unzip -j '/content/Dataset/Tegridy-Piano-CC-BY-NC-SA.zip'\n",
        "!rm '/content/Dataset/Tegridy-Piano-CC-BY-NC-SA.zip'\n",
        "%cd /content/"
      ],
      "execution_count": null,
      "outputs": []
    },
    {
      "cell_type": "code",
      "metadata": {
        "id": "BRy0VfpFIpaj",
        "cellView": "form"
      },
      "source": [
        "#@title Process MIDIs to special MIDI dataset with Tegridy MIDI Processor\r\n",
        "#@markdown NOTES:\r\n",
        "\r\n",
        "#@markdown 1) Dataset MIDI file names are used as song names. Feel free to change it to anything you like.\r\n",
        "\r\n",
        "#@markdown 2) Best results are achieved with the single-track, single-channel, single-instrument MIDI 0 files with plain English names (avoid special or sys/foreign chars)\r\n",
        "\r\n",
        "full_path_to_output_dataset_to = \"/content/Intelligent-Virtuoso-Music-MIDI-Dataset.data\" #@param {type:\"string\"}\r\n",
        "debug = False #@param {type:\"boolean\"}\r\n",
        "\r\n",
        "print('TMIDI Processor')\r\n",
        "print('Starting up...')\r\n",
        "\r\n",
        "chords_list = []\r\n",
        "\r\n",
        "###########\r\n",
        "\r\n",
        "average_note_pitch = 0\r\n",
        "min_note = 127\r\n",
        "max_note = 0\r\n",
        "\r\n",
        "files_count = 0\r\n",
        "\r\n",
        "ev = 0\r\n",
        "\r\n",
        "chords_list_f = []\r\n",
        "melody_list_f = []\r\n",
        "\r\n",
        "chords_list = []\r\n",
        "chords_count = 0\r\n",
        "\r\n",
        "melody_chords = []\r\n",
        "melody_count = 0\r\n",
        "\r\n",
        "song_names = []\r\n",
        "\r\n",
        "###########\r\n",
        "\r\n",
        "def list_average(num):\r\n",
        "  sum_num = 0\r\n",
        "  for t in num:\r\n",
        "      sum_num = sum_num + t           \r\n",
        "\r\n",
        "  avg = sum_num / len(num)\r\n",
        "  return avg\r\n",
        "\r\n",
        "###########\r\n",
        "\r\n",
        "print('Loading MIDI files...')\r\n",
        "print('This may take a while on a large dataset in particular.')\r\n",
        "\r\n",
        "\r\n",
        "%cd /content/\r\n",
        "dataset_addr = \"/content/Dataset/\"\r\n",
        "os.chdir(dataset_addr)\r\n",
        "filez = os.listdir(dataset_addr)\r\n",
        "\r\n",
        "print('Creating list of songs from MIDI file names...')\r\n",
        "for f in filez: # Based on input MIDI file names w/o the extension\r\n",
        "  fn = os.path.basename(f)\r\n",
        "  fno = fn.split('.')[0]\r\n",
        "  song_names.append(fno)\r\n",
        "\r\n",
        "print('Processing MIDI files. Please wait...')\r\n",
        "for f in tqdm.auto.tqdm(filez):\r\n",
        "  files_count += 1\r\n",
        "  chords_list, melody = TMIDI.Tegridy_MIDI_Processor(f)\r\n",
        "\r\n",
        "  fn = os.path.basename(f)\r\n",
        "  fno = fn.split('.')[0].replace(' ', '_')\r\n",
        "\r\n",
        "  chords_l, melody_l = TMIDI.Tegridy_Chords_Converter(chords_list, melody, fno)\r\n",
        "  \r\n",
        "  chords_list_f.extend(chords_l)\r\n",
        "  melody_list_f.extend(melody_l)\r\n",
        "  chords_count += len(chords_l)\r\n",
        "  melody_count += len(melody_l)\r\n",
        "\r\n",
        "average_note_pitch = int((min_note + max_note) / 2)\r\n",
        "\r\n",
        "print('Task complete :)')\r\n",
        "print('==================================================')\r\n",
        "print('Number of processed dataset MIDI files:', files_count)\r\n",
        "print('Average note pitch =', average_note_pitch)\r\n",
        "#print('Min note pitch =', min_note)\r\n",
        "#print('Max note pitch =', max_note)\r\n",
        "#print('Number of MIDI events recorded:', len(events_matrix))\r\n",
        "print('Number of MIDI chords recorded:', chords_count)\r\n",
        "print('The longest chord:', len(max(chords_list_f, key=len)), 'notes') \r\n",
        "print(max(chords_list_f, key=len))\r\n",
        "print('Number of recorded melody events:', len(melody_list_f))\r\n",
        "print('First melody event:', melody_list_f[0], 'Last Melody event:', melody_list_f[-1])\r\n",
        "print('Total number of MIDI events recorded:', len(chords_list_f))\r\n",
        "# Dataset\r\n",
        "MusicDataset = [chords_list_f, melody_list_f]\r\n",
        "\r\n",
        "with open(full_path_to_output_dataset_to, 'wb') as filehandle:\r\n",
        "    # store the data as binary data stream\r\n",
        "    pickle.dump(MusicDataset, filehandle)\r\n",
        "print('Dataset was saved at:', full_path_to_output_dataset_to)\r\n",
        "\r\n",
        "# MIDI/files stats code from the previous version.\r\n",
        "\r\n",
        "print('Task complete. Enjoy! :)')"
      ],
      "execution_count": null,
      "outputs": []
    },
    {
      "cell_type": "code",
      "metadata": {
        "id": "A378EUz_7K0G",
        "cellView": "form"
      },
      "source": [
        "#@title Process MIDI Dataset to TXT Dataset (w/Tegridy MIDI-TXT Processor)\n",
        "full_path_to_TXT_dataset = \"/content/Intelligent-Virtuoso-Music-TXT-Dataset.data\" #@param {type:\"string\"}\n",
        "simulate_velocity = True #@param {type:\"boolean\"}\n",
        "\n",
        "# MIDI Dataset to txt dataset converter \n",
        "print('TMIDI-TXT Processor')\n",
        "print('Starting up...')\n",
        "if os.path.exists(full_path_to_TXT_dataset):\n",
        "  os.remove(full_path_to_TXT_dataset)\n",
        "  print('Removing old Dataset...')\n",
        "else:\n",
        "  print(\"Creating new Dataset file...\")\n",
        "if simulate_velocity:\n",
        "  print('Simulated velocity mode is enabled.')\n",
        "\n",
        "TXT = ''\n",
        "number_of_chords = 0\n",
        "number_of_bad_chords = 0\n",
        "\n",
        "file = open(full_path_to_TXT_dataset, 'a')\n",
        "file.write('DATASET=Intelligent_VIRTUOSO_TXT_Music_Dataset ')\n",
        "TXT, number_of_chords, number_of_bad_chords = TMIDI.Tegridy_MIDI_TXT_Processor(chords_list_f, melody_list_f, simulate_velocity)\n",
        "file.write(TXT)\n",
        "file.close()\n",
        "print('Number of chords recorded: ', number_of_chords)\n",
        "print('Number of bad/skipped chords: ', number_of_bad_chords)\n",
        "print('Done!')"
      ],
      "execution_count": null,
      "outputs": []
    },
    {
      "cell_type": "markdown",
      "metadata": {
        "id": "0cj2xl5xqwea"
      },
      "source": [
        "# Setup and Intialize the Model"
      ]
    },
    {
      "cell_type": "code",
      "metadata": {
        "id": "z1MQDOVMySmJ",
        "cellView": "form"
      },
      "source": [
        "#@title Setup functions and procedures\n",
        "model_attention_span_in_tokens = 256 #@param {type:\"slider\", min:0, max:512, step:16}\n",
        "\n",
        "class CharDataset(Dataset):\n",
        "\n",
        "    def __init__(self, data, block_size):\n",
        "        chars = sorted(list(set(data)))\n",
        "        data_size, vocab_size = len(data), len(chars)\n",
        "        print('data has %d characters, %d unique.' % (data_size, vocab_size))\n",
        "        \n",
        "        self.stoi = { ch:i for i,ch in enumerate(chars) }\n",
        "        self.itos = { i:ch for i,ch in enumerate(chars) }\n",
        "        self.block_size = block_size\n",
        "        self.vocab_size = vocab_size\n",
        "        self.data = data\n",
        "    \n",
        "    def __len__(self):\n",
        "        return len(self.data) - self.block_size\n",
        "\n",
        "    def __getitem__(self, idx):\n",
        "        # grab a chunk of (block_size + 1) characters from the data\n",
        "        chunk = self.data[idx:idx + self.block_size + 1]\n",
        "        # encode every character to an integer\n",
        "        dix = [self.stoi[s] for s in chunk]\n",
        "        \n",
        "        x = torch.tensor(dix[:-1], dtype=torch.long)\n",
        "        y = torch.tensor(dix[1:], dtype=torch.long)\n",
        "        return x, y\n",
        "\n",
        "        \n",
        "block_size = model_attention_span_in_tokens # spatial extent of the model for its context"
      ],
      "execution_count": null,
      "outputs": []
    },
    {
      "cell_type": "code",
      "metadata": {
        "id": "m4QIgbe3ySmN",
        "cellView": "form"
      },
      "source": [
        "#@title Specify full path to the processed TMIDI-TXT dataset file\n",
        "full_path_to_training_text_file = \"/content/Intelligent-Virtuoso-Music-TXT-Dataset.data\" #@param {type:\"string\"}\n",
        "text = open(full_path_to_training_text_file, 'r').read() # don't worry we won't run out of file handles\n",
        "train_dataset = CharDataset(text, block_size) # one line of poem is roughly 50 characters"
      ],
      "execution_count": null,
      "outputs": []
    },
    {
      "cell_type": "code",
      "metadata": {
        "id": "bpNxwzNkySmQ",
        "cellView": "form"
      },
      "source": [
        "#@title Create GPT2 model\n",
        "model_embed_size = 256 #@param {type:\"slider\", min:0, max:1024, step:64}\n",
        "number_of_heads = 16 #@param {type:\"slider\", min:1, max:16, step:1}\n",
        "number_of_layers = 4 #@param {type:\"slider\", min:1, max:16, step:1}\n",
        "\n",
        "\n",
        "mconf = GPTConfig(train_dataset.vocab_size, \n",
        "                  train_dataset.block_size,\n",
        "                  n_layer=number_of_layers, \n",
        "                  n_head=number_of_heads, \n",
        "                  n_embd=model_embed_size)\n",
        "\n",
        "model = GPT(mconf)"
      ],
      "execution_count": null,
      "outputs": []
    },
    {
      "cell_type": "code",
      "metadata": {
        "id": "BWaOS0sRySmS",
        "cellView": "form"
      },
      "source": [
        "#@title Setup all training parameters\n",
        "number_of_training_epochs = 5 #@param {type:\"slider\", min:1, max:100, step:1}\n",
        "training_batch_size = 160 #@param {type:\"slider\", min:0, max:160, step:4}\n",
        "model_learning_rate = 6e-4 #@param {type:\"number\"}\n",
        "# initialize a trainer instance and kick off training\n",
        "\n",
        "tconf = TrainerConfig(max_epochs=number_of_training_epochs, \n",
        "                      batch_size=training_batch_size, \n",
        "                      learning_rate=model_learning_rate,\n",
        "                      num_workers=4)\n",
        "trainer = Trainer(model, train_dataset, None, tconf)"
      ],
      "execution_count": null,
      "outputs": []
    },
    {
      "cell_type": "markdown",
      "metadata": {
        "id": "B_18H-M-q4CB"
      },
      "source": [
        "# Train the Model or load the existing pre-trained model checkpoint"
      ]
    },
    {
      "cell_type": "code",
      "metadata": {
        "id": "cRffqT9WFBHB",
        "cellView": "form"
      },
      "source": [
        "#@title (OPTION 1) Train the model\n",
        "%cd /content/\n",
        "trainer.train()"
      ],
      "execution_count": null,
      "outputs": []
    },
    {
      "cell_type": "code",
      "metadata": {
        "id": "YVWEhUj1cg7N",
        "cellView": "form"
      },
      "source": [
        "#@title Plot Positional Embeddings\n",
        "\n",
        "# visualize some of the learned positional embeddings, maybe they contain structure\n",
        "plt.figure(figsize=(18, 1))  \n",
        "ci = model.pos_emb.data[0, :, 0].cpu()\n",
        "zci = torch.cat((torch.tensor([0.0]), ci)) # pre-cat a zero\n",
        "plt.imshow(zci.view(1, block_size+1).numpy())\n",
        "plt.axis('off')"
      ],
      "execution_count": null,
      "outputs": []
    },
    {
      "cell_type": "code",
      "metadata": {
        "id": "pMkyEMghC-KR",
        "cellView": "form"
      },
      "source": [
        "#@title Save/Re-Save the model from memory\n",
        "full_path_to_save_model_to = \"/content/Intelligent-Virtuoso-Trained-Model.pth\" #@param {type:\"string\"}\n",
        "%cd /content/\n",
        "torch.save(model, full_path_to_save_model_to)"
      ],
      "execution_count": null,
      "outputs": []
    },
    {
      "cell_type": "code",
      "metadata": {
        "id": "CmD7VRZhDcnJ",
        "cellView": "form"
      },
      "source": [
        "#@title (OPTION 2) Load existing model/checkpoint\n",
        "full_path_to_model_checkpoint = \"/content/Intelligent-Virtuoso-Trained-Model.pth\" #@param {type:\"string\"}\n",
        "model = torch.load(full_path_to_model_checkpoint)\n",
        "model.eval()"
      ],
      "execution_count": null,
      "outputs": []
    },
    {
      "cell_type": "markdown",
      "metadata": {
        "id": "FfgeQl8_rEox"
      },
      "source": [
        "# Generate, download, plot, and listen to the output"
      ]
    },
    {
      "cell_type": "code",
      "metadata": {
        "id": "6ZEqKJ6NySmV",
        "cellView": "form"
      },
      "source": [
        "#@title Generate and download the composition as TXT file.\n",
        "#@markdown PLEASE NOTE IMPORTANT POINTS: \n",
        "\n",
        "#@markdown 1) Model primes from the dataset !!!\n",
        "\n",
        "#@markdown 2) Model's first output may be empty or garbled so please try several times before discarting the model\n",
        "\n",
        "#@markdown 3) Coherence of GPT2 Models is inversly proportional to the length of the generated composition, so the best resutls are achieved with shorter compositions and/or continuation routines use (which be implemented in the future version of Intelligent VIRTUOSO)\n",
        "\n",
        "print('Intelligent VIRTUOSO Model Generator')\n",
        "print('Starting up...')\n",
        "number_of_tokens_to_generate = 8192 #@param {type:\"slider\", min:0, max:32768, step:128}\n",
        "creativity_temperature = 0.8 #@param {type:\"slider\", min:0.05, max:4, step:0.05}\n",
        "top_k_prob = 3 #@param {type:\"slider\", min:0, max:50, step:1}\n",
        "input_promt = \"SONG=\" #@param {type:\"string\"}\n",
        "\n",
        "os.chdir('/content/')\n",
        "\n",
        "model.to(device)\n",
        "\n",
        "context = input_promt\n",
        "x = torch.tensor([train_dataset.stoi[s] for s in context], dtype=torch.long)[None,...].to(trainer.device)\n",
        "y = sample(model, x, number_of_tokens_to_generate, temperature=creativity_temperature, sample=True, top_k=top_k_prob)[0]\n",
        "completion = ''.join([train_dataset.itos[int(i)] for i in y])\n",
        "print('Done!')\n",
        "print('Saving to TMIDI-TXT-Composition.txt!')\n",
        "with open(\"/content/TMIDI-TXT-Composition.txt\", \"w\") as text_file:\n",
        "    print(completion, file=text_file)\n",
        "\n",
        "print('Downloading TXT file...')\n",
        "from google.colab import files\n",
        "files.download('TMIDI-TXT-Composition.txt')"
      ],
      "execution_count": null,
      "outputs": []
    },
    {
      "cell_type": "code",
      "metadata": {
        "id": "22qDcd4NO2bs",
        "cellView": "form"
      },
      "source": [
        "#@title Convert to MIDI from TXT (w/Tegridy MIDI-TXT Processor)\n",
        "\n",
        "#@markdown Standard MIDI timings are 400/120(80)\n",
        "\n",
        "#@markdown Silence offset is model specific and usually the same so most likely it will need to be set up only once. Otherwise, please play with the settings utill you will find the right ones for your particular model.\n",
        "\n",
        "number_of_ticks_per_quarter = 425 #@param {type:\"slider\", min:1, max:1000, step:8}\n",
        "start_from_this_generated_event = 0 #@param {type:\"slider\", min:0, max:100, step:1}\n",
        "remove_generated_silence_if_needed = False #@param {type:\"boolean\"}\n",
        "silence_offset_from_start = 75000 #@param {type:\"integer\"}\n",
        "simulate_velocity = False #@param {type:\"boolean\"}\n",
        "\n",
        "song_score = []\n",
        "\n",
        "with open('/content/TMIDI-TXT-Composition.txt', 'r') as file:\n",
        "    input_string=file.read()\n",
        "\n",
        "input_string = input_string.split(\" \")\n",
        "if debug: print(input_string)\n",
        "\n",
        "\n",
        "i=0\n",
        "notes_specs = []\n",
        "song_name = ''\n",
        "z=1\n",
        "previous_chord_start_time = 0\n",
        "\n",
        "zero_marker = True\n",
        "song_header = []\n",
        "song_score = []\n",
        "\n",
        "for i in tqdm.auto.tqdm(range(len(input_string))): \n",
        "  input_string_len = len(input_string[i])\n",
        "\n",
        "  if input_string[i].split('=')[0] == 'SONG':\n",
        "    try:\n",
        "      song_name = input_string[i].split('=')[1]\n",
        "      song_header.append(['track_name', 0, song_name,])\n",
        "    except:\n",
        "      print('Unknown Song name format', song_name)\n",
        "  if input_string[i].split('=')[0] == 'C':\n",
        "    try:\n",
        "      start_time = int(input_string[i].split('=')[1].split('-')[0])\n",
        "      duration = int(input_string[i].split('=')[1].split('-')[1]) \n",
        "      channel = int(input_string[i].split('=')[1].split('-')[2])\n",
        "      velocity = int(input_string[i].split('=')[1].split('-')[3])\n",
        "    except:\n",
        "      print('Unknown Chord:', input_string[i])\n",
        "\n",
        "  if str(input_string[i].split('=')[0]).split('-')[0] == 'N':    \n",
        "    try:\n",
        "      for x in range(len(str(input_string[i].split('=')[0]).split('-'))-1):\n",
        "        notes_specs = str(input_string[i].split('=')[0]).split('-')[x+1]\n",
        "        simulated_velocity = notes_specs        \n",
        "        if simulate_velocity:\n",
        "          song_score.append(['note', \n",
        "                              int(start_time), #Start Time\n",
        "                              int(duration), #Duration\n",
        "                              int(channel), #Channel\n",
        "                              int(notes_specs), #Note\n",
        "                              int(simulated_velocity)]) #Velocity              \n",
        "        else:  \n",
        "          song_score.append(['note', \n",
        "                              int(start_time), #Start Time\n",
        "                              int(duration), #Duration\n",
        "                              int(channel), #Channel\n",
        "                              int(notes_specs), #Note\n",
        "                              int(velocity)]) #Velocity              \n",
        "    except:\n",
        "      print(\"Unknown Notes: \" + input_string[i])\n",
        "\n",
        "if remove_generated_silence_if_needed:\n",
        "  song_score1 = []\n",
        "  for note in song_score[start_from_this_generated_event:]:\n",
        "    note1 = note\n",
        "    note1[1] = note[1] - silence_offset_from_start\n",
        "    song_score1.append(note1)\n",
        "  song_score = song_score1  \n",
        "\n",
        "output_header = [number_of_ticks_per_quarter,[['track_name', 0, b'Intelligent VIRTUOSO']]]\n",
        "output_song = song_header + song_score[start_from_this_generated_event:]\n",
        "output = output_header + [output_song]\n",
        "\n",
        "midi_data = MIDI.score2midi(output)\n",
        "\n",
        "# Stuff for datetime stamp\n",
        "now = ''\n",
        "now_n = str(datetime.now())\n",
        "now_n = now_n.replace(' ', '_')\n",
        "now_n = now_n.replace(':', '_')\n",
        "now = now_n.replace('.', '_')\n",
        "    \n",
        "fname = '/content/Intelligent-VIRTUOSO-Composition-' + 'generated-on-' + str(now) + '.mid'  \n",
        "\n",
        "\n",
        "with open(fname, 'wb') as midi_file:\n",
        "    midi_file.write(midi_data)\n",
        "    midi_file.close()\n",
        "print('Done!')\n",
        "\n",
        "from google.colab import files\n",
        "files.download(fname)\n",
        "\n",
        "MIDI.score2stats(output)"
      ],
      "execution_count": null,
      "outputs": []
    },
    {
      "cell_type": "code",
      "metadata": {
        "cellView": "form",
        "id": "kILhoHR7JmmS"
      },
      "source": [
        "#@title Listen to the last generated composition\n",
        "#@markdown NOTE: May be very slow with the long compositions\n",
        "print('Synthesizing the last output MIDI. Please stand-by... ')\n",
        "FluidSynth(\"/usr/share/sounds/sf2/FluidR3_GM.sf2\", 41000).midi_to_audio(str(fname), str(fname + '.wav'))\n",
        "Audio(str(fname + '.wav'), rate=41000)"
      ],
      "execution_count": null,
      "outputs": []
    },
    {
      "cell_type": "markdown",
      "metadata": {
        "id": "2Snu3fb4N-Nd"
      },
      "source": [
        "## Congrats! :) You did it :)"
      ]
    }
  ]
}